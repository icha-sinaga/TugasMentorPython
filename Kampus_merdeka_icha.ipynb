{
  "nbformat": 4,
  "nbformat_minor": 0,
  "metadata": {
    "colab": {
      "provenance": [],
      "toc_visible": true
    },
    "kernelspec": {
      "name": "python3",
      "display_name": "Python 3"
    },
    "language_info": {
      "name": "python"
    }
  },
  "cells": [
    {
      "cell_type": "code",
      "source": [
        "odd=[x for x in range(2+1) if x %2!=0]\n",
        "squares=[x**2 for x in odd]\n",
        "total=sum(squares)\n",
        "ratarata=total/len(squares)\n",
        "print(total)\n",
        "print(ratarata)"
      ],
      "metadata": {
        "id": "Q4MNFOHXqdJJ",
        "colab": {
          "base_uri": "https://localhost:8080/"
        },
        "outputId": "2334a2a3-0eac-42f8-fd11-7516287fe2dc"
      },
      "execution_count": 4,
      "outputs": [
        {
          "output_type": "stream",
          "name": "stdout",
          "text": [
            "1\n",
            "1.0\n"
          ]
        }
      ]
    },
    {
      "cell_type": "code",
      "source": [
        "a = int(input(\"Masukan a = \"))\n",
        "if a<100: #conditional form\n",
        "    print('a bernilai di bawah 100')\n",
        "else:\n",
        "    print('a bernilai di atas sama dengan 100')"
      ],
      "metadata": {
        "colab": {
          "base_uri": "https://localhost:8080/"
        },
        "id": "oMiZmOEoncOi",
        "outputId": "4fe7b80e-ce23-4621-d803-eef766eb0488"
      },
      "execution_count": 7,
      "outputs": [
        {
          "output_type": "stream",
          "name": "stdout",
          "text": [
            "masukan a = 2\n",
            "a bernilai di bawah 100\n"
          ]
        }
      ]
    },
    {
      "cell_type": "code",
      "source": [
        "while True:\n",
        "  a = int(input(\"Masukan a = \"))\n",
        "  if a<100:\n",
        "    print('a bernilai di bawah 100')\n",
        "  else:\n",
        "    print('a bernilai di atas sama dengan 100')\n",
        "    break\n",
        "\n",
        "#jika nilai a di bawah 100 maka akan selalu terjadi perulangan"
      ],
      "metadata": {
        "colab": {
          "base_uri": "https://localhost:8080/"
        },
        "id": "fLY43qi9ofrJ",
        "outputId": "132ae1e5-8bdb-4e18-b1ec-ed3609a111b3"
      },
      "execution_count": 10,
      "outputs": [
        {
          "output_type": "stream",
          "name": "stdout",
          "text": [
            "Masukan a = 200\n",
            "a bernilai di atas sama dengan 100\n"
          ]
        }
      ]
    },
    {
      "cell_type": "code",
      "source": [
        "pas= input(\"password= \")\n",
        "panjang=len(pas)>=5\n",
        "c8=\"8\" in pas\n",
        "cx= \"X\" in pas\n",
        "char=\"@\" in pas\n",
        "if panjang!=True:\n",
        "    print(\"Terlalu Pendek\")\n",
        "elif c8!=True:\n",
        "    print(\"Harus Mengandung 8\")\n",
        "elif cx!=True:\n",
        "    print(\"Harus Mengandng X\")\n",
        "elif char!=True:\n",
        "    print(\"Harus Mengandng @\")\n",
        "else:\n",
        "    print(\"Password Valid\")"
      ],
      "metadata": {
        "colab": {
          "base_uri": "https://localhost:8080/"
        },
        "id": "cj24khymFFdK",
        "outputId": "39edb33f-a44c-4b18-ef5f-3151730653c9"
      },
      "execution_count": 16,
      "outputs": [
        {
          "output_type": "stream",
          "name": "stdout",
          "text": [
            "password= ajnd\n",
            "Terlalu Pendek\n"
          ]
        }
      ]
    },
    {
      "cell_type": "code",
      "source": [
        "while True:\n",
        "  pas= input(\"Password= \")\n",
        "  panjang=len(pas)>=5\n",
        "  c8=\"8\" in pas\n",
        "  cx= \"X\" in pas\n",
        "  char=\"@\" in pas\n",
        "  if panjang!=True:\n",
        "      print(\"Terlalu Pendek\")\n",
        "  elif c8!=True:\n",
        "      print(\"Harus Mengandung 8\")\n",
        "  elif cx!=True:\n",
        "      print(\"Harus Mengandng X\")\n",
        "  elif char!=True:\n",
        "      print(\"Harus Mengandng @\")\n",
        "  else:\n",
        "    print(\"Password Valid\")\n",
        "    break\n",
        "\n",
        "#Jika password tidak memenuhi syarat lebih dari 5 karakter, mengandung 8, X, dan @ maka akan terjadi perulangan dengan menggunakan while\n"
      ],
      "metadata": {
        "colab": {
          "base_uri": "https://localhost:8080/"
        },
        "id": "JQmpJWY8F6gU",
        "outputId": "974f670e-ac36-47da-a90c-8f2332bb6998"
      },
      "execution_count": null,
      "outputs": [
        {
          "output_type": "stream",
          "name": "stdout",
          "text": [
            "password= kampusX@8\n",
            "password valid\n"
          ]
        }
      ]
    },
    {
      "cell_type": "code",
      "source": [
        "count=0\n",
        "contoh_list=['acc', 'xyz', 'aba', '1221', '343', 'ichi']\n",
        "for i in range(len(contoh_list)):\n",
        "    if(contoh_list[i][0] == contoh_list[i][-1]): #berfungsi untuk melakukan pengecekan pada masing2 kata dalam list, dimana yang dicek ialah huruf pertama dan huruf terakhir dari kata tersebut apaakah sama atau tidak\n",
        "        count += 1 #count sebagai wadah untuk menampung nilai true dari konsisi if\n",
        "print('jumlah string yg sama=',count)"
      ],
      "metadata": {
        "colab": {
          "base_uri": "https://localhost:8080/"
        },
        "id": "LOs66iMXqnR0",
        "outputId": "5698ce14-4b81-45e6-94a3-cefa1aecbc90"
      },
      "execution_count": 37,
      "outputs": [
        {
          "output_type": "stream",
          "name": "stdout",
          "text": [
            "jumlah string yg sama= 4\n"
          ]
        }
      ]
    },
    {
      "cell_type": "code",
      "source": [
        "while True:\n",
        "    kata=input(\"Masukan Kata= \")\n",
        "    if kata == kata[::-1]: #Pengecekan apakah string yang dimasukkan sama dari depan ke belakang dan dari belakang ke depan\n",
        "        print(\"String merupakan palidrom\")\n",
        "        break\n",
        "    else:\n",
        "        print(\"String bukan palidrom\")\n",
        "\n",
        "#Pengulangan jika kata yang dimasukkan bukan palindrom"
      ],
      "metadata": {
        "colab": {
          "base_uri": "https://localhost:8080/"
        },
        "id": "KIAz0YraGEJe",
        "outputId": "c46a773f-47a2-4c72-a96a-b857920ced2a"
      },
      "execution_count": 18,
      "outputs": [
        {
          "output_type": "stream",
          "name": "stdout",
          "text": [
            "masukan kata= usus\n",
            "string bukan palidrom\n",
            "masukan kata= caac\n",
            "string merupakan palidrom\n"
          ]
        }
      ]
    },
    {
      "cell_type": "code",
      "source": [
        "def hitung(s):\n",
        "    d={'upper':0,'lower':0}\n",
        "    for x in s:\n",
        "        if x.isupper():\n",
        "            d['upper']+=1\n",
        "        elif x.islower():\n",
        "            d['lower']+=1\n",
        "    print('String kalimat:', s)\n",
        "    print('Jumlah huruf kapital:',d['upper'])\n",
        "    print('Jumlah huruf kecil',d['lower'])\n",
        "hitung('IXCha SiNAgA')"
      ],
      "metadata": {
        "id": "79-V6Hg-GzsE",
        "outputId": "248a9846-06b3-4734-9292-041c0f712656",
        "colab": {
          "base_uri": "https://localhost:8080/"
        }
      },
      "execution_count": 20,
      "outputs": [
        {
          "output_type": "stream",
          "name": "stdout",
          "text": [
            "String kalimat: IXCha SiNAgA\n",
            "Jumlah huruf kapital: 7\n",
            "Jumlah huruf kecil 4\n"
          ]
        }
      ]
    },
    {
      "cell_type": "code",
      "source": [
        "#Kata ganjil\n",
        "list1=[\"ada\",\"icha\",\"madu\",\"sinaga\",\"novel\",\"di\",\"romansa\"]\n",
        "for i in list1:\n",
        "    if len(i)%2==1: #jika jumlah karakter dari list memiliki hasil mod = 1, maka kata pada list akan ditampilkan\n",
        "        print(i,end=\" \")"
      ],
      "metadata": {
        "colab": {
          "base_uri": "https://localhost:8080/"
        },
        "id": "CrkyyQgmGFJR",
        "outputId": "99dbed74-a89c-47c8-809a-a88d5794f085"
      },
      "execution_count": 24,
      "outputs": [
        {
          "output_type": "stream",
          "name": "stdout",
          "text": [
            "ada novel romansa "
          ]
        }
      ]
    },
    {
      "cell_type": "code",
      "source": [
        "#Kata genap\n",
        "list1=[\"ada\",\"icha\",\"madu\",\"sinaga\",\"novel\",\"di\",\"romansa\"]\n",
        "for i in list1:\n",
        "    if len(i)%2==0: #jika jumlah karakter dari list memiliki hasil mod = 0, maka kata pada list akan ditampilkan\n",
        "        print(i,end=\" \")"
      ],
      "metadata": {
        "colab": {
          "base_uri": "https://localhost:8080/"
        },
        "id": "EolCEUTjsQSH",
        "outputId": "044cb707-1486-4776-e667-2a1b731e3156"
      },
      "execution_count": 26,
      "outputs": [
        {
          "output_type": "stream",
          "name": "stdout",
          "text": [
            "icha madu sinaga di "
          ]
        }
      ]
    }
  ]
}